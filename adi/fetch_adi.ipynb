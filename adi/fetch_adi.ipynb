{
 "cells": [
  {
   "cell_type": "code",
   "execution_count": 15,
   "metadata": {},
   "outputs": [
    {
     "name": "stdout",
     "output_type": "stream",
     "text": [
      "200\n"
     ]
    }
   ],
   "source": [
    "import requests\n",
    "from io import BytesIO, StringIO\n",
    "from zipfile import ZipFile\n",
    "import pandas as pd\n",
    "\n",
    "from lib import get_state_codes\n",
    "\n",
    "# get these from your login\n",
    "SESSION_COOKIE = 's%3AMaQpNUwZwsmig9fE0XDZzk9K0xJwcRP4.vYJT06RO4nVDV9gotB4x96YdaXXLsRrBW5dY5nnp1Vs'\n",
    "_csrf = 'pyGlYwW2-MaI7CkYx6eL6fLQnSiYDf1lG5R4'\n",
    "\n",
    "def _fetch_data(state_code: str = \"AL\") -> BytesIO:\n",
    "    print(state_code)\n",
    "    \n",
    "    cookies = {\n",
    "        'sess': SESSION_COOKIE,\n",
    "    }\n",
    "\n",
    "    data = {\n",
    "        'state-type': 'zipcode',\n",
    "        '_csrf': _csrf,\n",
    "        'scale-group': 'state',\n",
    "        'state-name': state_code,\n",
    "        'version-group': '19',\n",
    "    }\n",
    "\n",
    "    response = requests.post('https://www.neighborhoodatlas.medicine.wisc.edu/adi-download', cookies=cookies, data=data)\n",
    "    print(response.status_code)\n",
    "    return BytesIO(response.content)\n",
    "\n",
    "def build_adi_table(state_code: str) -> None:\n",
    "    zf = ZipFile(_fetch_data(state_code))\n",
    "    content = StringIO(zf.read(zf.namelist()[0]).decode())\n",
    "    df = pd.read_csv(content, dtype=\"str\")\n",
    "    df.to_parquet(f\"data/state_tables/{state_code}.parquet\")\n",
    "\n",
    "for state in get_state_codes():\n",
    "    build_adi_table(state)\n"
   ]
  }
 ],
 "metadata": {
  "interpreter": {
   "hash": "aee8b7b246df8f9039afb4144a1f6fd8d2ca17a180786b69acc140d282b71a49"
  },
  "kernelspec": {
   "display_name": "Python 3.9.10 64-bit",
   "language": "python",
   "name": "python3"
  },
  "language_info": {
   "codemirror_mode": {
    "name": "ipython",
    "version": 3
   },
   "file_extension": ".py",
   "mimetype": "text/x-python",
   "name": "python",
   "nbconvert_exporter": "python",
   "pygments_lexer": "ipython3",
   "version": "3.9.10"
  },
  "orig_nbformat": 4
 },
 "nbformat": 4,
 "nbformat_minor": 2
}

{
 "cells": [
  {
   "cell_type": "code",
   "execution_count": 3,
   "metadata": {},
   "outputs": [],
   "source": []
  },
  {
   "cell_type": "code",
   "execution_count": null,
   "metadata": {},
   "outputs": [],
   "source": []
  },
  {
   "cell_type": "code",
   "execution_count": 4,
   "metadata": {},
   "outputs": [],
   "source": [
    "# import requests\n",
    "\n",
    "# headers = {\n",
    "#     'authority': 'services2.arcgis.com',\n",
    "#     'accept': '*/*',\n",
    "#     'accept-language': 'en-US,en;q=0.9',\n",
    "#     'origin': 'https://abortionfacilitydatabase-ucsf.hub.arcgis.com',\n",
    "#     'referer': 'https://abortionfacilitydatabase-ucsf.hub.arcgis.com/',\n",
    "#     'sec-ch-ua': '\".Not/A)Brand\";v=\"99\", \"Google Chrome\";v=\"103\", \"Chromium\";v=\"103\"',\n",
    "#     'sec-ch-ua-mobile': '?0',\n",
    "#     'sec-ch-ua-platform': '\"macOS\"',\n",
    "#     'sec-fetch-dest': 'empty',\n",
    "#     'sec-fetch-mode': 'cors',\n",
    "#     'sec-fetch-site': 'same-site',\n",
    "#     'user-agent': 'Mozilla/5.0 (Macintosh; Intel Mac OS X 10_15_7) AppleWebKit/537.36 (KHTML, like Gecko) Chrome/103.0.0.0 Safari/537.36',\n",
    "# }\n",
    "\n",
    "# params = {\n",
    "#     'f': 'pbf',\n",
    "#     'objectIds': '182,183,683,706',\n",
    "#     'outFields': 'zip_code,FID',\n",
    "#     'outSR': '102100',\n",
    "#     'returnM': 'true',\n",
    "#     'returnZ': 'true',\n",
    "#     'spatialRel': 'esriSpatialRelIntersects',\n",
    "#     'where': '1=1',\n",
    "# }\n",
    "\n",
    "# response = requests.get('https://services2.arcgis.com/7QFoBxBgcWaqCg0N/arcgis/rest/services/AFD_2021_Zip_Codes/FeatureServer/0/query', params=params, headers=headers)\n",
    "# response\n",
    "# response.content"
   ]
  }
 ],
 "metadata": {
  "kernelspec": {
   "display_name": "Python 3.8.2 64-bit",
   "language": "python",
   "name": "python3"
  },
  "language_info": {
   "codemirror_mode": {
    "name": "ipython",
    "version": 3
   },
   "file_extension": ".py",
   "mimetype": "text/x-python",
   "name": "python",
   "nbconvert_exporter": "python",
   "pygments_lexer": "ipython3",
   "version": "3.8.2"
  },
  "orig_nbformat": 4,
  "vscode": {
   "interpreter": {
    "hash": "5edc29c2ed010d6458d71a83433b383a96a8cbd3efe8531bc90c4b8a5b8bcec9"
   }
  }
 },
 "nbformat": 4,
 "nbformat_minor": 2
}
